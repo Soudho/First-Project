{
 "cells": [
  {
   "cell_type": "code",
   "execution_count": 1,
   "id": "a7a81205",
   "metadata": {},
   "outputs": [
    {
     "name": "stdout",
     "output_type": "stream",
     "text": [
      "hello world\n"
     ]
    }
   ],
   "source": [
    "#1\n",
    "print(\"hello world\")"
   ]
  },
  {
   "cell_type": "code",
   "execution_count": 4,
   "id": "c745945e",
   "metadata": {},
   "outputs": [
    {
     "name": "stdout",
     "output_type": "stream",
     "text": [
      "Enter the first number:54\n",
      "Enter the second number:56\n",
      "The summation of the two number is 110 .\n"
     ]
    }
   ],
   "source": [
    "#2\n",
    "number_1 =int (input(\"Enter the first number:\"))\n",
    "\n",
    "number_2 =int (input(\"Enter the second number:\"))\n",
    "\n",
    "\n",
    "summation =number_1 + number_2\n",
    "\n",
    "print (\"The summation of the two number is\",summation,\".\")"
   ]
  },
  {
   "cell_type": "code",
   "execution_count": 1,
   "id": "32f977cc",
   "metadata": {},
   "outputs": [
    {
     "name": "stdout",
     "output_type": "stream",
     "text": [
      "ENTER THE SESSION :\n",
      "FALL\n",
      "ENTER THE YEAR:\n",
      "2022\n",
      "FALL \n",
      " 2022\n"
     ]
    }
   ],
   "source": [
    "#3\n",
    "session = input(\"ENTER THE SESSION :\\n\")\n",
    "\n",
    "year = int (input (\"ENTER THE YEAR:\\n\"))\n",
    "\n",
    "print(session,\"\\n\",year)"
   ]
  },
  {
   "cell_type": "code",
   "execution_count": 9,
   "id": "62702ab3",
   "metadata": {},
   "outputs": [
    {
     "name": "stdout",
     "output_type": "stream",
     "text": [
      "Please enter your name:Soudho\n",
      "Your name is Soudho\n"
     ]
    }
   ],
   "source": [
    "#4\n",
    "user_name = input(\"Please enter your name:\")\n",
    "\n",
    "print(\"Your name is \"+user_name)"
   ]
  },
  {
   "cell_type": "code",
   "execution_count": 10,
   "id": "5a922b4c",
   "metadata": {},
   "outputs": [
    {
     "name": "stdout",
     "output_type": "stream",
     "text": [
      "Enetr the first integer:2\n",
      "Enter the second integer:3\n",
      "8\n"
     ]
    }
   ],
   "source": [
    "#5\n",
    "M =int (input(\"Enetr the first integer:\"))\n",
    "    \n",
    "N = int (input(\"Enter the second integer:\"))\n",
    "\n",
    "result = M**N\n",
    "\n",
    "print(result)\n"
   ]
  },
  {
   "cell_type": "code",
   "execution_count": 2,
   "id": "46ee2ddc",
   "metadata": {},
   "outputs": [
    {
     "name": "stdout",
     "output_type": "stream",
     "text": [
      "Enter the shipment unit :29\n",
      "28\n"
     ]
    }
   ],
   "source": [
    "# 6\n",
    "inp1 = int (input('Enter the shipment unit :'))\n",
    "\n",
    "for i  in range(inp1,0,-1):\n",
    "    \n",
    "    if i %4==0:\n",
    "        \n",
    "        print(i)\n",
    "        \n",
    "        break"
   ]
  },
  {
   "cell_type": "code",
   "execution_count": 18,
   "id": "d47a1b86",
   "metadata": {},
   "outputs": [
    {
     "name": "stdout",
     "output_type": "stream",
     "text": [
      "Enter the first input:HELLO\n",
      "Enter the second input :WORLD\n",
      "WORLDHELLO\n"
     ]
    }
   ],
   "source": [
    "#7 \n",
    "\n",
    "fst_input = input (\"Enter the first input:\")\n",
    "\n",
    "scnd_input = input(\"Enter the second input :\")\n",
    "\n",
    "result = scnd_input+fst_input\n",
    "\n",
    "print (result)"
   ]
  },
  {
   "cell_type": "code",
   "execution_count": 19,
   "id": "245bcaef",
   "metadata": {},
   "outputs": [
    {
     "name": "stdout",
     "output_type": "stream",
     "text": [
      "ENTER THE SENTENCE :Python is an interpreted language\n",
      "P\n"
     ]
    }
   ],
   "source": [
    "#8\n",
    "inp1 = input(\"ENTER THE SENTENCE :\")\n",
    "\n",
    "print(inp1[0])\n",
    "\n"
   ]
  },
  {
   "cell_type": "code",
   "execution_count": 5,
   "id": "4d7a0add",
   "metadata": {},
   "outputs": [
    {
     "name": "stdout",
     "output_type": "stream",
     "text": [
      "Enter the number:-26\n",
      "True\n"
     ]
    }
   ],
   "source": [
    "#9\n",
    "inp1 =int(input(\"Enter the number:\"))\n",
    "\n",
    "if inp1%2==0:\n",
    "    \n",
    "    print(\"True\")\n",
    "    \n",
    "else:\n",
    "    print(\"False\")\n",
    "                   "
   ]
  },
  {
   "cell_type": "code",
   "execution_count": 9,
   "id": "d0b21c81",
   "metadata": {},
   "outputs": [
    {
     "name": "stdout",
     "output_type": "stream",
     "text": [
      "Enter the first integer:88\n",
      "Enter the second integer:22\n",
      "Enter the third integer:1\n",
      "Enter the floating point number:3.3\n",
      "2022\n"
     ]
    }
   ],
   "source": [
    "#TASK10:\n",
    "\n",
    "int1 = int (input(\"Enter the first integer:\"))\n",
    "\n",
    "int2 =int (input(\"Enter the second integer:\"))\n",
    "\n",
    "int3 = int(input(\"Enter the third integer:\"))\n",
    "\n",
    "float1 =float(input(\"Enter the floating point number:\"))\n",
    "\n",
    "result =int(int1**int3+int2*int1-(float1/3))\n",
    "\n",
    "print(result)"
   ]
  },
  {
   "cell_type": "code",
   "execution_count": 3,
   "id": "0aa87fb1",
   "metadata": {},
   "outputs": [
    {
     "name": "stdout",
     "output_type": "stream",
     "text": [
      "Enter the number of chocolates she/he has:50\n",
      "Each friend will recieve  16 chocolates\n",
      "The number of remaining chocolates is  2\n"
     ]
    }
   ],
   "source": [
    "#TASK 11\n",
    "\n",
    "chocolates = int(input (\"Enter the number of chocolates she/he has:\"))\n",
    "\n",
    "r_chocolates=chocolates%3\n",
    "\n",
    "d_chocolates = chocolates//3\n",
    "\n",
    "print(\"Each friend will recieve \",d_chocolates,\"chocolates\")\n",
    "\n",
    "\n",
    "print('The number of remaining chocolates is ',r_chocolates)\n",
    "\n"
   ]
  }
 ],
 "metadata": {
  "kernelspec": {
   "display_name": "Python 3",
   "language": "python",
   "name": "python3"
  },
  "language_info": {
   "codemirror_mode": {
    "name": "ipython",
    "version": 3
   },
   "file_extension": ".py",
   "mimetype": "text/x-python",
   "name": "python",
   "nbconvert_exporter": "python",
   "pygments_lexer": "ipython3",
   "version": "3.8.8"
  }
 },
 "nbformat": 4,
 "nbformat_minor": 5
}
